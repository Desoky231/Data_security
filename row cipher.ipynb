{
 "cells": [
  {
   "cell_type": "code",
   "execution_count": 69,
   "id": "502c0db7",
   "metadata": {},
   "outputs": [
    {
     "data": {
      "text/plain": [
       "[99, 111, 97, 99, 104]"
      ]
     },
     "execution_count": 69,
     "metadata": {},
     "output_type": "execute_result"
    }
   ],
   "source": [
    "text_key = 'coach'\n",
    "list_txt = list(text_key)\n",
    "list_txt = [ord(x) for x in list_txt]\n",
    "list_txt"
   ]
  },
  {
   "cell_type": "code",
   "execution_count": 70,
   "id": "3ad32858",
   "metadata": {},
   "outputs": [
    {
     "data": {
      "text/plain": [
       "'14023'"
      ]
     },
     "execution_count": 70,
     "metadata": {},
     "output_type": "execute_result"
    }
   ],
   "source": [
    "def bubble_arg_sort(array):\n",
    "    sorted_args = [ i for i in range(0, len(array))]\n",
    "    intended_args = [0] * len(array)\n",
    "    for i in range(len(sorted_args)):\n",
    "        for j in range(i, len(sorted_args)):\n",
    "            \n",
    "            if (array[sorted_args[i]] == array[sorted_args[j]] and sorted_args[j] < sorted_args[i]) or array[sorted_args[i]] > array[sorted_args[j]]:\n",
    "\n",
    "                temp = sorted_args[i]\n",
    "                sorted_args[i] = sorted_args[j]\n",
    "                sorted_args[j] = temp\n",
    "        intended_args[sorted_args[i]] = i \n",
    "    return intended_args \n",
    "\n",
    "key_list = list(map(str, bubble_arg_sort(list_txt)))\n",
    "key = ''.join(key_list)\n",
    "key"
   ]
  },
  {
   "cell_type": "code",
   "execution_count": 71,
   "id": "4a2b5f71",
   "metadata": {},
   "outputs": [
    {
     "name": "stdout",
     "output_type": "stream",
     "text": [
      "Ciphered Message: PLEUHWONXS\n"
     ]
    }
   ],
   "source": [
    "import math\n",
    "import numpy as np\n",
    "\n",
    "def cipher_message(key, message):\n",
    "    # Remove spaces from the message\n",
    "    message_letters_only = message.replace(' ', '').upper()\n",
    "    \n",
    "    # Determine the key length and calculate the number of rows for the matrix\n",
    "    key_length = len(key)\n",
    "    rows = math.ceil(len(message_letters_only) / key_length)\n",
    "    \n",
    "    # Initialize a full matrix with 'X' as placeholders\n",
    "    inner_list = ['X'] * key_length\n",
    "    full_matrix = []\n",
    "    \n",
    "    # Create the matrix\n",
    "    for i in range(rows):\n",
    "        full_matrix.append(inner_list.copy())\n",
    "    full_matrix = np.array(full_matrix)\n",
    "    \n",
    "    # Fill the matrix with the message characters\n",
    "    message_index = 0\n",
    "    for i in range(rows):\n",
    "        for j in range(key_length):\n",
    "            if message_index < len(message_letters_only):\n",
    "                full_matrix[i][j] = message_letters_only[message_index]\n",
    "                message_index += 1\n",
    "    \n",
    "    # Create a list of columns from the matrix\n",
    "    list_of_columns = []\n",
    "    for i in range(key_length):\n",
    "        list_of_columns.append(full_matrix[:, i])\n",
    "\n",
    "    # Copy the list of columns to rearrange them according to the key\n",
    "    list_of_columns_copy = list_of_columns.copy()\n",
    "\n",
    "    # Rearrange the columns based on the key\n",
    "    for i, number in enumerate(list(key)):\n",
    "        number = int(number) - 1  # Convert the key to 0-indexed\n",
    "        list_of_columns_copy[number] = list_of_columns[i]\n",
    "\n",
    "    # Reconstruct the ciphered message\n",
    "    list_of_columns_copy = np.array(list_of_columns_copy)\n",
    "    final_string = []\n",
    "    for i in range(len(list_of_columns_copy[0])):\n",
    "        final_string.append(''.join(list(list_of_columns_copy[:, i])))\n",
    "\n",
    "    # Join the result into a final string\n",
    "    final_string = ''.join(final_string)\n",
    "    \n",
    "    return final_string\n",
    "\n",
    "# Example usage:\n",
    "key = '53214'\n",
    "message = 'helpusnow'\n",
    "ciphered_message = cipher_message(key, message)\n",
    "print(\"Ciphered Message:\", ciphered_message)\n"
   ]
  },
  {
   "cell_type": "code",
   "execution_count": 72,
   "id": "dc632b15",
   "metadata": {},
   "outputs": [
    {
     "name": "stdout",
     "output_type": "stream",
     "text": [
      "Ciphered Message: PWLOENUXHS\n",
      "Decrypted Message: HELPUSNOW\n"
     ]
    }
   ],
   "source": [
    "import math\n",
    "import numpy as np\n",
    "\n",
    "def cipher_message(key, message):\n",
    "    \"\"\"\n",
    "    Encrypts the message using a columnar transposition cipher based on the provided key.\n",
    "    \"\"\"\n",
    "    message_letters_only = message.replace(' ', '').upper()\n",
    "    key_length = len(key)\n",
    "    rows = math.ceil(len(message_letters_only) / key_length)\n",
    "    full_matrix = [['X'] * key_length for _ in range(rows)]\n",
    "    message_index = 0\n",
    "    for i in range(rows):\n",
    "        for j in range(key_length):\n",
    "            if message_index < len(message_letters_only):\n",
    "                full_matrix[i][j] = message_letters_only[message_index]\n",
    "                message_index += 1\n",
    "    key_order = sorted([(int(k), i) for i, k in enumerate(key)], key=lambda x: (x[0], x[1]))\n",
    "    ciphered_columns = []\n",
    "    for digit, original_index in key_order:\n",
    "        ciphered_columns.append(''.join([full_matrix[r][original_index] for r in range(rows)]))\n",
    "    ciphered_message = ''.join(ciphered_columns)\n",
    "    return ciphered_message\n",
    "\n",
    "def decipher_message(key, ciphered_message):\n",
    "    \"\"\"\n",
    "    Decrypts the ciphered message using a columnar transposition cipher based on the provided key.\n",
    "    \"\"\"\n",
    "    ciphered_message = ciphered_message.replace(' ', '').upper()\n",
    "    key_length = len(key)\n",
    "    message_length = len(ciphered_message)\n",
    "    rows = math.ceil(message_length / key_length)\n",
    "    key_order = sorted([(int(k), i) for i, k in enumerate(key)], key=lambda x: (x[0], x[1]))\n",
    "    chars_per_column = rows\n",
    "    columns = []\n",
    "    index = 0\n",
    "    for digit, original_index in key_order:\n",
    "        column = ciphered_message[index:index + chars_per_column]\n",
    "        columns.append((original_index, column))\n",
    "        index += chars_per_column\n",
    "    columns_sorted = sorted(columns, key=lambda x: x[0])\n",
    "    full_matrix = []\n",
    "    for r in range(rows):\n",
    "        row = []\n",
    "        for c in range(key_length):\n",
    "            row.append(columns_sorted[c][1][r])\n",
    "        full_matrix.append(row)\n",
    "    decrypted_message = ''.join([''.join(row) for row in full_matrix]).rstrip('X')\n",
    "    return decrypted_message\n",
    "\n",
    "# Example Usage\n",
    "if __name__ == \"__main__\":\n",
    "    key = '53214'\n",
    "    message = 'helpusnow'\n",
    "    \n",
    "    # Encrypt the message\n",
    "    ciphered_message = cipher_message(key, message)\n",
    "    print(\"Ciphered Message:\", ciphered_message)  # Expected: PLEUHWONXS\n",
    "    \n",
    "    # Decrypt the message\n",
    "    decrypted_message = decipher_message(key, ciphered_message)\n",
    "    print(\"Decrypted Message:\", decrypted_message)  # Expected: HELPUSNOW\n"
   ]
  }
 ],
 "metadata": {
  "kernelspec": {
   "display_name": "Python 3 (ipykernel)",
   "language": "python",
   "name": "python3"
  },
  "language_info": {
   "codemirror_mode": {
    "name": "ipython",
    "version": 3
   },
   "file_extension": ".py",
   "mimetype": "text/x-python",
   "name": "python",
   "nbconvert_exporter": "python",
   "pygments_lexer": "ipython3",
   "version": "3.11.4"
  }
 },
 "nbformat": 4,
 "nbformat_minor": 5
}
